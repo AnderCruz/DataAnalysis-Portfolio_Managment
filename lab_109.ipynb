{
 "cells": [
  {
   "cell_type": "markdown",
   "metadata": {},
   "source": [
    "# Efficient Frontier - Part III - Running the Optimizer\n",
    "\n",
    "In order to plot the frontier for portfolios with more than 2 assets, we need to find the weights of the portfolio on the efficient frontier.\n",
    "\n",
    "We start by creating the same sort of function that we already created for the 2 asset case:\n",
    "\n",
    "```python\n",
    "\n",
    "def plot_ef(n_points, er, cov):\n",
    "    \"\"\"\n",
    "    Plots the multi-asset efficient frontier\n",
    "    \"\"\"\n",
    "    weights = ???? # we need to implement: optimal_weights(n_points, er, cov)\n",
    "    rets = [portfolio_return(w, er) for w in weights]\n",
    "    vols = [portfolio_vol(w, cov) for w in weights]\n",
    "    ef = pd.DataFrame({\n",
    "        \"Returns\": rets, \n",
    "        \"Volatility\": vols\n",
    "    })\n",
    "    return ef.plot.line(x=\"Volatility\", y=\"Returns\", style='.-')\n",
    "```\n",
    "\n",
    "But let's start by loading up the data as usual:\n"
   ]
  },
  {
   "cell_type": "code",
   "execution_count": 2,
   "metadata": {},
   "outputs": [
    {
     "name": "stdout",
     "output_type": "stream",
     "text": [
      "The autoreload extension is already loaded. To reload it, use:\n",
      "  %reload_ext autoreload\n"
     ]
    }
   ],
   "source": [
    "%load_ext autoreload\n",
    "%autoreload 2\n",
    "%matplotlib inline\n",
    "import edhec_risk_kit_109 as erk\n",
    "\n",
    "ind = erk.get_ind_returns()\n",
    "er = erk.annualize_rets(ind[\"1996\":\"2000\"], 12)\n",
    "cov = ind[\"1996\":\"2000\"].cov()"
   ]
  },
  {
   "cell_type": "markdown",
   "metadata": {},
   "source": [
    "In order to find the optimal weights, we need a function that will minimize the volatility for a given level of return.\n",
    "\n",
    "\n",
    "```python\n",
    "from scipy.optimize import minimize\n",
    "\n",
    "def minimize_vol(target_return, er, cov):\n",
    "    \"\"\"\n",
    "    Returns the optimal weights that achieve the target return\n",
    "    given a set of expected returns and a covariance matrix\n",
    "    \"\"\"\n",
    "    n = er.shape[0]\n",
    "    init_guess = np.repeat(1/n, n)\n",
    "    bounds = ((0.0, 1.0),) * n # an N-tuple of 2-tuples!\n",
    "    # construct the constraints\n",
    "    weights_sum_to_1 = {'type': 'eq',\n",
    "                        'fun': lambda weights: np.sum(weights) - 1\n",
    "    }\n",
    "    return_is_target = {'type': 'eq',\n",
    "                        'args': (er,),\n",
    "                        'fun': lambda weights, er: target_return - erk.portfolio_return(weights,er)\n",
    "    }\n",
    "    weights = minimize(erk.portfolio_vol, init_guess,\n",
    "                       args=(cov,), method='SLSQP',\n",
    "                       options={'disp': False},\n",
    "                       constraints=(weights_sum_to_1,return_is_target),\n",
    "                       bounds=bounds)\n",
    "    return weights.x\n",
    "```\n",
    "\n",
    "Let's use this to recreate the result we got from frontier for the 2-Asset optimization between \"Games\" and \"Fin\". Let's plot that efficient frontier as we did last time:"
   ]
  },
  {
   "cell_type": "code",
   "execution_count": 3,
   "metadata": {},
   "outputs": [
    {
     "data": {
      "text/plain": [
       "<matplotlib.axes._subplots.AxesSubplot at 0x2625288aaf0>"
      ]
     },
     "execution_count": 3,
     "metadata": {},
     "output_type": "execute_result"
    },
    {
     "data": {
      "image/png": "[encoded data removed]",
      "text/plain": [
       "<Figure size 432x288 with 1 Axes>"
      ]
     },
     "metadata": {
      "needs_background": "light"
     },
     "output_type": "display_data"
    }
   ],
   "source": [
    "l = [\"Games\", \"Fin\"]\n",
    "erk.plot_ef2(20, er[l], cov.loc[l,l])"
   ]
  },
  {
   "cell_type": "markdown",
   "metadata": {},
   "source": [
    "The Efficient Frontier for the protfolio that has a target return of 0.15 is approx 0.056, so let's see if our optimizer is able to locate it."
   ]
  },
  {
   "cell_type": "code",
   "execution_count": 4,
   "metadata": {},
   "outputs": [
    {
     "data": {
      "text/plain": [
       "0.056163669406706564"
      ]
     },
     "execution_count": 4,
     "metadata": {},
     "output_type": "execute_result"
    }
   ],
   "source": [
    "weights_15 = erk.minimize_vol(0.15, er[l], cov.loc[l,l])\n",
    "vol_15 = erk.portfolio_vol(weights_15, cov.loc[l,l])\n",
    "vol_15"
   ]
  },
  {
   "cell_type": "markdown",
   "metadata": {},
   "source": [
    "Perfect!\n",
    "\n",
    "Now that we can find the weights to minimize the vol given a target return, we can plot the efficient frontier by dividing up the range from the highest to the lowest possible return into a grid, and finding the portfolio that targets the minimum volatility given a particular targeted rate of return.\n",
    "\n",
    "Add these:\n",
    "\n",
    "```python\n",
    "def optimal_weights(n_points, er, cov):\n",
    "    \"\"\"\n",
    "    \"\"\"\n",
    "    target_rs = np.linspace(er.min(), er.max(), n_points)\n",
    "    weights = [minimize_vol(target_return, er, cov) for target_return in target_rs]\n",
    "    return weights\n",
    "\n",
    "def plot_ef(n_points, er, cov):\n",
    "    \"\"\"\n",
    "    Plots the multi-asset efficient frontier\n",
    "    \"\"\"\n",
    "    weights = optimal_weights(n_points, er, cov) # not yet implemented!\n",
    "    rets = [portfolio_return(w, er) for w in weights]\n",
    "    vols = [portfolio_vol(w, cov) for w in weights]\n",
    "    ef = pd.DataFrame({\n",
    "        \"Returns\": rets, \n",
    "        \"Volatility\": vols\n",
    "    })\n",
    "    return ef.plot.line(x=\"Volatility\", y=\"Returns\", style='.-')\n",
    "```\n"
   ]
  },
  {
   "cell_type": "code",
   "execution_count": 5,
   "metadata": {},
   "outputs": [
    {
     "data": {
      "text/plain": [
       "<matplotlib.axes._subplots.AxesSubplot at 0x262529e5610>"
      ]
     },
     "execution_count": 5,
     "metadata": {},
     "output_type": "execute_result"
    },
    {
     "data": {
      "image/png": "[encoded data removed]",
      "text/plain": [
       "<Figure size 432x288 with 1 Axes>"
      ]
     },
     "metadata": {
      "needs_background": "light"
     },
     "output_type": "display_data"
    }
   ],
   "source": [
    "l = [\"Smoke\", \"Fin\", \"Games\", \"Coal\"]\n",
    "erk.plot_ef(50, er[l], cov.loc[l,l])"
   ]
  },
  {
   "cell_type": "code",
   "execution_count": null,
   "metadata": {},
   "outputs": [],
   "source": []
  }
 ],
 "metadata": {
  "kernelspec": {
   "display_name": "Python 3",
   "language": "python",
   "name": "python3"
  },
  "language_info": {
   "codemirror_mode": {
    "name": "ipython",
    "version": 3
   },
   "file_extension": ".py",
   "mimetype": "text/x-python",
   "name": "python",
   "nbconvert_exporter": "python",
   "pygments_lexer": "ipython3",
   "version": "3.8.3"
  }
 },
 "nbformat": 4,
 "nbformat_minor": 4
}
